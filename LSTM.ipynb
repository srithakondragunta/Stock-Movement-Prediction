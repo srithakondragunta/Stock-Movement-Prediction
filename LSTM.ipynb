{
 "cells": [
  {
   "cell_type": "markdown",
   "id": "2120d735",
   "metadata": {},
   "source": [
    "### Imports"
   ]
  },
  {
   "cell_type": "code",
   "execution_count": 1,
   "id": "3a4256ea",
   "metadata": {},
   "outputs": [],
   "source": [
    "import pandas as pd\n",
    "import numpy as np\n",
    "import torch\n",
    "import torch.nn as nn\n",
    "from sklearn.model_selection import train_test_split\n",
    "from sklearn.preprocessing import StandardScaler\n",
    "from sklearn.utils.class_weight import compute_class_weight\n",
    "from torch.utils.data import Dataset, DataLoader\n",
    "import matplotlib.pyplot as plt\n",
    "from sklearn.metrics import confusion_matrix, classification_report, roc_auc_score"
   ]
  },
  {
   "cell_type": "markdown",
   "id": "be704254",
   "metadata": {},
   "source": [
    "### Load in Data "
   ]
  },
  {
   "cell_type": "code",
   "execution_count": 2,
   "id": "a16d8da4",
   "metadata": {},
   "outputs": [],
   "source": [
    "df = pd.read_csv(\"engineered_stock_data.csv\")"
   ]
  },
  {
   "cell_type": "markdown",
   "id": "63a73966",
   "metadata": {},
   "source": [
    "### Pick Features and Target"
   ]
  },
  {
   "cell_type": "code",
   "execution_count": 3,
   "id": "6c5778ae",
   "metadata": {},
   "outputs": [],
   "source": [
    "features = [\"Close\", \"High\", \"Low\", \"Open\", \"Volume\", \n",
    "            \"RSI\", \"PROC\", \"SO\", \"WR\", \"OBV\", \"EWMA\", \"Close_detrend\"]\n",
    "targets = {\"1-Day\": \"Target(1)\", \"30-Day\": \"Target(30)\"}\n",
    "seq_len = 30  "
   ]
  },
  {
   "cell_type": "markdown",
   "id": "5e7b8e07",
   "metadata": {},
   "source": [
    "### Encode Stock Symbols"
   ]
  },
  {
   "cell_type": "code",
   "execution_count": 4,
   "id": "d2081b17",
   "metadata": {},
   "outputs": [],
   "source": [
    "stock2id = {s: i for i, s in enumerate(df[\"Symbol\"].unique())}\n",
    "df[\"stock_id\"] = df[\"Symbol\"].map(stock2id)"
   ]
  },
  {
   "cell_type": "markdown",
   "id": "d4dd7c6c",
   "metadata": {},
   "source": [
    "### Normalize Features"
   ]
  },
  {
   "cell_type": "code",
   "execution_count": 5,
   "id": "415006d6",
   "metadata": {},
   "outputs": [],
   "source": [
    "scaler = StandardScaler()\n",
    "df[features] = scaler.fit_transform(df[features])"
   ]
  },
  {
   "cell_type": "markdown",
   "id": "4549ffe3",
   "metadata": {},
   "source": [
    "### Build Sequences\n",
    "\n",
    "For each stock:\n",
    "\n",
    "- Take 30 days (seq_len) worth of features.\n",
    "\n",
    "- Predict the target on the next day after those 30 days.\n",
    "\n",
    "X = sequences of features\n",
    "\n",
    "y = targets (up/down)\n",
    "\n",
    "ids = stock IDs"
   ]
  },
  {
   "cell_type": "code",
   "execution_count": 6,
   "id": "ce99cab7",
   "metadata": {},
   "outputs": [],
   "source": [
    "def build_sequences(data, features, target_col, seq_len=30):\n",
    "    X, y, ids = [], [], []\n",
    "    for stock, stock_df in data.groupby(\"Symbol\"):\n",
    "        stock_df = stock_df.reset_index(drop=True)\n",
    "        values = stock_df[features].values\n",
    "        targets = stock_df[target_col].values\n",
    "        stock_id = stock_df[\"stock_id\"].iloc[0]\n",
    "\n",
    "        for i in range(len(stock_df) - seq_len):\n",
    "            X.append(values[i:i+seq_len])\n",
    "            y.append(targets[i+seq_len])\n",
    "            ids.append(stock_id)\n",
    "\n",
    "    X = np.array(X, dtype=np.float32)\n",
    "    y = np.array(y, dtype=np.int64)\n",
    "    ids = np.array(ids, dtype=np.int64)\n",
    "    # 0 = down and 1 = up\n",
    "    y = ((y + 1) // 2).astype(np.int64)\n",
    "    return X, y, ids\n"
   ]
  },
  {
   "cell_type": "markdown",
   "id": "42b79a87",
   "metadata": {},
   "source": [
    "### Dataset"
   ]
  },
  {
   "cell_type": "code",
   "execution_count": 7,
   "id": "a3dd38fb",
   "metadata": {},
   "outputs": [],
   "source": [
    "class StockDataset(Dataset):\n",
    "    def __init__(self, X, y, ids):\n",
    "        self.X, self.y, self.ids = X, y, ids\n",
    "    def __len__(self):\n",
    "        return len(self.X)\n",
    "    def __getitem__(self, idx):\n",
    "        return self.X[idx], self.y[idx], self.ids[idx]\n"
   ]
  },
  {
   "cell_type": "markdown",
   "id": "0a8c3545",
   "metadata": {},
   "source": [
    "### LSTM Model and Stock Embedding"
   ]
  },
  {
   "cell_type": "code",
   "execution_count": 8,
   "id": "52150be5",
   "metadata": {},
   "outputs": [],
   "source": [
    "class StockLSTM(nn.Module):\n",
    "    def __init__(self, input_dim, hidden_dim, num_layers, num_classes, num_stocks, emb_dim=8, dropout=0.3):\n",
    "        super().__init__()\n",
    "        self.embedding = nn.Embedding(num_stocks, emb_dim)\n",
    "        self.lstm = nn.LSTM(input_dim, hidden_dim, num_layers, batch_first=True, dropout=dropout)\n",
    "        self.fc = nn.Sequential(\n",
    "            nn.Linear(hidden_dim + emb_dim, hidden_dim),\n",
    "            nn.ReLU(),\n",
    "            nn.Dropout(dropout),\n",
    "            nn.Linear(hidden_dim, num_classes)\n",
    "        )\n",
    "\n",
    "    def forward(self, x, stock_ids):\n",
    "        emb = self.embedding(stock_ids)  # (batch, emb_dim)\n",
    "        _, (hn, _) = self.lstm(x)\n",
    "        hn = hn[-1]  # last hidden state\n",
    "        combined = torch.cat([hn, emb], dim=1)\n",
    "        return self.fc(combined)"
   ]
  },
  {
   "cell_type": "markdown",
   "id": "4fa239ae",
   "metadata": {},
   "source": [
    "### Train and Evaluate "
   ]
  },
  {
   "cell_type": "code",
   "execution_count": null,
   "id": "3ce6685d",
   "metadata": {},
   "outputs": [],
   "source": [
    "def train_and_evaluate(X, y, ids, target_name):\n",
    "    print(f\"\\n========== Training {target_name} Model ==========\\n\")\n",
    "\n",
    "    # Train/test split\n",
    "    X_train, X_test, y_train, y_test, ids_train, ids_test = train_test_split(\n",
    "        X, y, ids, test_size=0.2, stratify=y, shuffle=True\n",
    "    )\n",
    "\n",
    "    # Convert to tensors\n",
    "    X_train = torch.tensor(X_train, dtype=torch.float32)\n",
    "    y_train = torch.tensor(y_train, dtype=torch.long)\n",
    "    ids_train = torch.tensor(ids_train, dtype=torch.long)\n",
    "    X_test = torch.tensor(X_test, dtype=torch.float32)\n",
    "    y_test = torch.tensor(y_test, dtype=torch.long)\n",
    "    ids_test = torch.tensor(ids_test, dtype=torch.long)\n",
    "\n",
    "    # Class weights\n",
    "    classes = np.unique(y_train.numpy())\n",
    "    weights = compute_class_weight('balanced', classes=classes, y=y_train.numpy())\n",
    "    weights = torch.tensor(weights, dtype=torch.float32)\n",
    "    criterion = nn.CrossEntropyLoss(weight=weights)\n",
    "\n",
    "    # Dataset + loaders\n",
    "    train_ds = StockDataset(X_train, y_train, ids_train)\n",
    "    test_ds = StockDataset(X_test, y_test, ids_test)\n",
    "    train_loader = DataLoader(train_ds, batch_size=64, shuffle=True)\n",
    "    test_loader = DataLoader(test_ds, batch_size=64)\n",
    "\n",
    "    # Model\n",
    "    model = StockLSTM(\n",
    "        input_dim=len(features), hidden_dim=128, num_layers=2,\n",
    "        num_classes=2, num_stocks=len(stock2id), dropout=0.3\n",
    "    )\n",
    "    optimizer = torch.optim.Adam(model.parameters(), lr=0.001)\n",
    "    scheduler = torch.optim.lr_scheduler.StepLR(optimizer, step_size=10, gamma=0.5)\n",
    "\n",
    "    # Training loop\n",
    "    num_epochs = 30\n",
    "    for epoch in range(num_epochs):\n",
    "        model.train()\n",
    "        total_loss = 0\n",
    "        for xb, yb, idsb in train_loader:\n",
    "            optimizer.zero_grad()\n",
    "            out = model(xb, idsb)\n",
    "            loss = criterion(out, yb)\n",
    "            loss.backward()\n",
    "            optimizer.step()\n",
    "            total_loss += loss.item()\n",
    "        scheduler.step()\n",
    "        print(f\"[{target_name}] Epoch {epoch+1}, Loss: {total_loss/len(train_loader):.4f}\")\n",
    "        \n",
    "    # Evaluation\n",
    "    model.eval()\n",
    "    all_preds, all_probs, all_labels, all_stock_ids = [], [], [], []\n",
    "    with torch.no_grad():\n",
    "        for xb, yb, idsb in test_loader:\n",
    "            out = model(xb, idsb)\n",
    "            probs = torch.softmax(out, dim=1)[:, 1]  # prob of class 1\n",
    "            preds = torch.argmax(out, dim=1)\n",
    "            all_preds.extend(preds.cpu().numpy())\n",
    "            all_probs.extend(probs.cpu().numpy())\n",
    "            all_labels.extend(yb.cpu().numpy())\n",
    "            all_stock_ids.extend(idsb.cpu().numpy())\n",
    "\n",
    "    all_preds = np.array(all_preds)\n",
    "    all_probs = np.array(all_probs)\n",
    "    all_labels = np.array(all_labels)\n",
    "    all_stock_ids = np.array(all_stock_ids)\n",
    "\n",
    "    # Metrics\n",
    "    accuracy = (all_preds == all_labels).mean()\n",
    "    print(f\"\\n[{target_name}] Overall Test Accuracy: {accuracy:.2%}\\n\")\n",
    "    print(classification_report(all_labels, all_preds, target_names=[\"Down\", \"Up\"]))\n",
    "    try:\n",
    "        auc = roc_auc_score(all_labels, all_probs)\n",
    "        print(f\"[{target_name}] ROC-AUC: {auc:.4f}\")\n",
    "    except:\n",
    "        print(f\"[{target_name}] ROC-AUC could not be computed\")\n",
    "\n",
    "    # Confusion Matrix\n",
    "    cm = confusion_matrix(all_labels, all_preds)\n",
    "    plt.figure(figsize=(5, 5))\n",
    "    plt.imshow(cm, cmap='Blues')\n",
    "    plt.title(f\"{target_name} Confusion Matrix\")\n",
    "    plt.colorbar()\n",
    "    plt.xticks([0, 1], [\"Down\", \"Up\"])\n",
    "    plt.yticks([0, 1], [\"Down\", \"Up\"])\n",
    "    for i in range(2):\n",
    "        for j in range(2):\n",
    "            plt.text(j, i, cm[i, j], ha='center', va='center', color='red', fontsize=16)\n",
    "    plt.xlabel(\"Predicted\")\n",
    "    plt.ylabel(\"Actual\")\n",
    "    plt.show()\n",
    "\n",
    "    # Per-stock accuracy\n",
    "    id2stock = {v: k for k, v in stock2id.items()}\n",
    "    stocks = np.unique(all_stock_ids)\n",
    "    print(f\"\\n[{target_name}] Per-stock Test Accuracy:\")\n",
    "    for s in stocks:\n",
    "        mask = all_stock_ids == s\n",
    "        acc = (all_preds[mask] == all_labels[mask]).mean()\n",
    "        print(f\"{id2stock[s]:6s}: {acc:.2%}\")\n",
    "\n",
    "    # Probability Distribution\n",
    "    plt.figure(figsize=(6, 4))\n",
    "    plt.hist(all_probs[all_labels == 0], bins=30, alpha=0.5, label=\"Down\")\n",
    "    plt.hist(all_probs[all_labels == 1], bins=30, alpha=0.5, label=\"Up\")\n",
    "    plt.title(f\"{target_name} Predicted Probabilities\")\n",
    "    plt.xlabel(\"Probability of Up\")\n",
    "    plt.ylabel(\"Count\")\n",
    "    plt.legend()\n",
    "    plt.show()\n",
    "\n",
    "    return model"
   ]
  },
  {
   "cell_type": "markdown",
   "id": "47469955",
   "metadata": {},
   "source": [
    "### Run both Target 1 and Target 30 Models"
   ]
  },
  {
   "cell_type": "code",
   "execution_count": 10,
   "id": "9577e2a1",
   "metadata": {},
   "outputs": [
    {
     "name": "stdout",
     "output_type": "stream",
     "text": [
      "\n",
      "========== Training 1-Day Model ==========\n",
      "\n",
      "[1-Day] Epoch 1, Loss: 0.6944\n",
      "[1-Day] Epoch 2, Loss: 0.6939\n",
      "[1-Day] Epoch 3, Loss: 0.6936\n",
      "[1-Day] Epoch 4, Loss: 0.6943\n",
      "[1-Day] Epoch 5, Loss: 0.6933\n",
      "[1-Day] Epoch 6, Loss: 0.6921\n",
      "[1-Day] Epoch 7, Loss: 0.6920\n",
      "[1-Day] Epoch 8, Loss: 0.6911\n",
      "[1-Day] Epoch 9, Loss: 0.6913\n",
      "[1-Day] Epoch 10, Loss: 0.6905\n",
      "[1-Day] Epoch 11, Loss: 0.6894\n",
      "[1-Day] Epoch 12, Loss: 0.6878\n",
      "[1-Day] Epoch 13, Loss: 0.6865\n",
      "[1-Day] Epoch 14, Loss: 0.6837\n",
      "[1-Day] Epoch 15, Loss: 0.6831\n",
      "[1-Day] Epoch 16, Loss: 0.6811\n",
      "[1-Day] Epoch 17, Loss: 0.6779\n",
      "[1-Day] Epoch 18, Loss: 0.6766\n",
      "[1-Day] Epoch 19, Loss: 0.6742\n",
      "[1-Day] Epoch 20, Loss: 0.6691\n",
      "[1-Day] Epoch 21, Loss: 0.6595\n",
      "[1-Day] Epoch 22, Loss: 0.6572\n",
      "[1-Day] Epoch 23, Loss: 0.6556\n",
      "[1-Day] Epoch 24, Loss: 0.6489\n",
      "[1-Day] Epoch 25, Loss: 0.6445\n",
      "[1-Day] Epoch 26, Loss: 0.6420\n",
      "[1-Day] Epoch 27, Loss: 0.6378\n",
      "[1-Day] Epoch 28, Loss: 0.6394\n",
      "[1-Day] Epoch 29, Loss: 0.6322\n",
      "[1-Day] Epoch 30, Loss: 0.6315\n",
      "\n",
      "[1-Day] Overall Test Accuracy: 49.70%\n",
      "\n",
      "              precision    recall  f1-score   support\n",
      "\n",
      "        Down       0.48      0.53      0.50       564\n",
      "          Up       0.52      0.47      0.49       619\n",
      "\n",
      "    accuracy                           0.50      1183\n",
      "   macro avg       0.50      0.50      0.50      1183\n",
      "weighted avg       0.50      0.50      0.50      1183\n",
      "\n",
      "[1-Day] ROC-AUC: 0.5022\n"
     ]
    },
    {
     "data": {
      "image/png": "[encoded data removed]",
      "text/plain": [
       "<Figure size 500x500 with 2 Axes>"
      ]
     },
     "metadata": {},
     "output_type": "display_data"
    },
    {
     "name": "stdout",
     "output_type": "stream",
     "text": [
      "\n",
      "[1-Day] Per-stock Test Accuracy:\n",
      "NFLX  : 46.89%\n",
      "AAPL  : 51.44%\n",
      "AMZN  : 47.58%\n",
      "GOOGL : 51.29%\n",
      "META  : 51.60%\n"
     ]
    },
    {
     "data": {
      "image/png": "[encoded data removed]",
      "text/plain": [
       "<Figure size 600x400 with 1 Axes>"
      ]
     },
     "metadata": {},
     "output_type": "display_data"
    },
    {
     "name": "stdout",
     "output_type": "stream",
     "text": [
      "\n",
      "========== Training 30-Day Model ==========\n",
      "\n",
      "[30-Day] Epoch 1, Loss: 0.6832\n",
      "[30-Day] Epoch 2, Loss: 0.6683\n",
      "[30-Day] Epoch 3, Loss: 0.6425\n",
      "[30-Day] Epoch 4, Loss: 0.6072\n",
      "[30-Day] Epoch 5, Loss: 0.5565\n",
      "[30-Day] Epoch 6, Loss: 0.5216\n",
      "[30-Day] Epoch 7, Loss: 0.4846\n",
      "[30-Day] Epoch 8, Loss: 0.4541\n",
      "[30-Day] Epoch 9, Loss: 0.4177\n",
      "[30-Day] Epoch 10, Loss: 0.3862\n",
      "[30-Day] Epoch 11, Loss: 0.3357\n",
      "[30-Day] Epoch 12, Loss: 0.3166\n",
      "[30-Day] Epoch 13, Loss: 0.2995\n",
      "[30-Day] Epoch 14, Loss: 0.2777\n",
      "[30-Day] Epoch 15, Loss: 0.2774\n",
      "[30-Day] Epoch 16, Loss: 0.2655\n",
      "[30-Day] Epoch 17, Loss: 0.2521\n",
      "[30-Day] Epoch 18, Loss: 0.2365\n",
      "[30-Day] Epoch 19, Loss: 0.2388\n",
      "[30-Day] Epoch 20, Loss: 0.2273\n",
      "[30-Day] Epoch 21, Loss: 0.2038\n",
      "[30-Day] Epoch 22, Loss: 0.1931\n",
      "[30-Day] Epoch 23, Loss: 0.1890\n",
      "[30-Day] Epoch 24, Loss: 0.1781\n",
      "[30-Day] Epoch 25, Loss: 0.1779\n",
      "[30-Day] Epoch 26, Loss: 0.1735\n",
      "[30-Day] Epoch 27, Loss: 0.1703\n",
      "[30-Day] Epoch 28, Loss: 0.1661\n",
      "[30-Day] Epoch 29, Loss: 0.1667\n",
      "[30-Day] Epoch 30, Loss: 0.1646\n",
      "\n",
      "[30-Day] Overall Test Accuracy: 87.74%\n",
      "\n",
      "              precision    recall  f1-score   support\n",
      "\n",
      "        Down       0.81      0.89      0.84       444\n",
      "          Up       0.93      0.87      0.90       739\n",
      "\n",
      "    accuracy                           0.88      1183\n",
      "   macro avg       0.87      0.88      0.87      1183\n",
      "weighted avg       0.88      0.88      0.88      1183\n",
      "\n",
      "[30-Day] ROC-AUC: 0.9479\n"
     ]
    },
    {
     "data": {
      "image/png": "[encoded data removed]",
      "text/plain": [
       "<Figure size 500x500 with 2 Axes>"
      ]
     },
     "metadata": {},
     "output_type": "display_data"
    },
    {
     "name": "stdout",
     "output_type": "stream",
     "text": [
      "\n",
      "[30-Day] Per-stock Test Accuracy:\n",
      "NFLX  : 84.02%\n",
      "AAPL  : 85.95%\n",
      "AMZN  : 90.00%\n",
      "GOOGL : 88.43%\n",
      "META  : 90.00%\n"
     ]
    },
    {
     "data": {
      "image/png": "[encoded data removed]",
      "text/plain": [
       "<Figure size 600x400 with 1 Axes>"
      ]
     },
     "metadata": {},
     "output_type": "display_data"
    }
   ],
   "source": [
    "X1, y1, ids1 = build_sequences(df, features, targets[\"1-Day\"], seq_len)\n",
    "X30, y30, ids30 = build_sequences(df, features, targets[\"30-Day\"], seq_len)\n",
    "\n",
    "model_1d = train_and_evaluate(X1, y1, ids1, target_name=\"1-Day\")\n",
    "model_30d = train_and_evaluate(X30, y30, ids30, target_name=\"30-Day\")"
   ]
  }
 ],
 "metadata": {
  "kernelspec": {
   "display_name": ".venv",
   "language": "python",
   "name": "python3"
  },
  "language_info": {
   "codemirror_mode": {
    "name": "ipython",
    "version": 3
   },
   "file_extension": ".py",
   "mimetype": "text/x-python",
   "name": "python",
   "nbconvert_exporter": "python",
   "pygments_lexer": "ipython3",
   "version": "3.10.5"
  }
 },
 "nbformat": 4,
 "nbformat_minor": 5
}
